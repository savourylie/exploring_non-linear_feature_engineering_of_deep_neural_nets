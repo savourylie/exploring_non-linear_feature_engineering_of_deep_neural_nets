{
 "cells": [
  {
   "cell_type": "code",
   "execution_count": 1,
   "metadata": {
    "collapsed": true
   },
   "outputs": [],
   "source": [
    "import numpy as np\n",
    "import torch\n",
    "import matplotlib.pyplot as plt\n",
    "from IPython.display import display\n",
    "%matplotlib inline"
   ]
  },
  {
   "cell_type": "code",
   "execution_count": 2,
   "metadata": {
    "collapsed": true
   },
   "outputs": [],
   "source": [
    "features = np.random.uniform(0, 1000, 50000)"
   ]
  },
  {
   "cell_type": "code",
   "execution_count": 3,
   "metadata": {},
   "outputs": [],
   "source": [
    "features = features.reshape(50000, 1)"
   ]
  },
  {
   "cell_type": "code",
   "execution_count": 4,
   "metadata": {
    "collapsed": true
   },
   "outputs": [],
   "source": [
    "label = features**2"
   ]
  },
  {
   "cell_type": "code",
   "execution_count": 14,
   "metadata": {},
   "outputs": [],
   "source": [
    "from sklearn.model_selection import train_test_split\n",
    "\n",
    "X_train, X_test, y_train, y_test = train_test_split(features, label, test_size=0.3, random_state=1113)"
   ]
  },
  {
   "cell_type": "code",
   "execution_count": 6,
   "metadata": {},
   "outputs": [],
   "source": [
    "import torch.nn as nn\n",
    "\n",
    "batch_size = 64\n",
    "epochs = 1"
   ]
  },
  {
   "cell_type": "code",
   "execution_count": 7,
   "metadata": {},
   "outputs": [],
   "source": [
    "class DNN(nn.Module):\n",
    "    def __init__(self, input_dim, hidden_dim, output_dim):\n",
    "        super(DNN, self).__init__()\n",
    "        self.fc1 = nn.Linear(input_dim, hidden_dim)\n",
    "        self.sigmoid = nn.Sigmoid()\n",
    "        self.fc2 = nn.Linear(hidden_dim, output_dim)\n",
    "        \n",
    "    def forward(self, x):\n",
    "        fc1 = self.fc1(x)\n",
    "        fc1 = self.sigmoid(fc1)\n",
    "        output = self.fc2(fc1)\n",
    "        \n",
    "        return output"
   ]
  },
  {
   "cell_type": "code",
   "execution_count": 8,
   "metadata": {},
   "outputs": [],
   "source": [
    "input_dim = 1\n",
    "hidden_dim = 3\n",
    "output_dim = 1\n",
    "\n",
    "model = DNN(input_dim, hidden_dim, output_dim)"
   ]
  },
  {
   "cell_type": "code",
   "execution_count": 9,
   "metadata": {
    "collapsed": true
   },
   "outputs": [],
   "source": [
    "criterion = nn.MSELoss()"
   ]
  },
  {
   "cell_type": "code",
   "execution_count": 10,
   "metadata": {
    "collapsed": true
   },
   "outputs": [],
   "source": [
    "learning_rate = 0.001\n",
    "optimizer = torch.optim.SGD(model.parameters(), lr=learning_rate)"
   ]
  },
  {
   "cell_type": "code",
   "execution_count": 11,
   "metadata": {},
   "outputs": [
    {
     "name": "stdout",
     "output_type": "stream",
     "text": [
      "4\n",
      "torch.Size([3, 1])\n",
      "torch.Size([3])\n",
      "torch.Size([1, 3])\n",
      "torch.Size([1])\n"
     ]
    }
   ],
   "source": [
    "print(len(list(model.parameters())))\n",
    "\n",
    "for x in model.parameters():\n",
    "    print(x.size())"
   ]
  },
  {
   "cell_type": "code",
   "execution_count": 15,
   "metadata": {},
   "outputs": [
    {
     "name": "stdout",
     "output_type": "stream",
     "text": [
      "iter 10\n",
      "iter 20\n",
      "iter 30\n",
      "iter 40\n",
      "iter 50\n",
      "iter 60\n",
      "iter 70\n",
      "iter 80\n",
      "iter 90\n",
      "iter 100\n",
      "iter 110\n",
      "iter 120\n",
      "iter 130\n",
      "iter 140\n",
      "iter 150\n",
      "iter 160\n",
      "iter 170\n",
      "iter 180\n",
      "iter 190\n",
      "iter 200\n",
      "iter 210\n",
      "iter 220\n",
      "iter 230\n",
      "iter 240\n",
      "iter 250\n",
      "iter 260\n",
      "iter 270\n",
      "iter 280\n",
      "iter 290\n",
      "iter 300\n",
      "iter 310\n",
      "iter 320\n",
      "iter 330\n",
      "iter 340\n",
      "iter 350\n",
      "iter 360\n",
      "iter 370\n",
      "iter 380\n",
      "iter 390\n",
      "iter 400\n",
      "iter 410\n",
      "iter 420\n",
      "iter 430\n",
      "iter 440\n",
      "iter 450\n",
      "iter 460\n",
      "iter 470\n",
      "iter 480\n",
      "iter 490\n",
      "iter 500\n",
      "iter 510\n",
      "iter 520\n",
      "iter 530\n",
      "iter 540\n",
      "Epoch 0 training finished\n",
      "Epoch 0: MSE = Variable containing:\n",
      " 1.3430e+17\n",
      "[torch.FloatTensor of size 1]\n",
      "\n"
     ]
    }
   ],
   "source": [
    "from torch.autograd import Variable\n",
    "iteration = 0\n",
    "data_train_size = len(X_train)\n",
    "data_test_size = len(X_test)\n",
    "X_test = Variable(torch.Tensor(X_test[:100]), requires_grad=False)\n",
    "\n",
    "for epoch in range(epochs):\n",
    "    for i in range(0, data_train_size, batch_size):\n",
    "        X_batch = X_train[i:min(i + batch_size, data_train_size)]\n",
    "        y_batch = y_train[i:min(i + batch_size, data_train_size)]\n",
    "        X_batch = Variable(torch.Tensor(X_batch), requires_grad=True)\n",
    "        y_batch = Variable(torch.Tensor(y_batch), requires_grad=False)\n",
    "        \n",
    "        optimizer.zero_grad()\n",
    "        output = model(X_batch)\n",
    "        loss = criterion(output, y_batch)\n",
    "        loss.backward()\n",
    "        optimizer.step()\n",
    "        \n",
    "        iteration += 1\n",
    "        \n",
    "        if iteration % 10 == 0:\n",
    "            print(\"iter {}\".format(iteration))\n",
    "    print(\"Epoch {} training finished\".format(epoch))\n",
    "    \n",
    "    y_pred = model(X_test)\n",
    "    \n",
    "    mse = ((y_test - y_pred)**2).sum()\n",
    "    \n",
    "    print(\"Epoch {}: MSE = {}\".format(epoch, mse))\n",
    "    \n",
    "        \n",
    "        \n",
    "        \n",
    "        "
   ]
  },
  {
   "cell_type": "code",
   "execution_count": null,
   "metadata": {},
   "outputs": [],
   "source": [
    "model(X_test)"
   ]
  },
  {
   "cell_type": "code",
   "execution_count": null,
   "metadata": {},
   "outputs": [],
   "source": [
    "from torch.autograd import Variable\n",
    "a = Variable(torch.Tensor([[1], [2], [3]]))"
   ]
  },
  {
   "cell_type": "code",
   "execution_count": null,
   "metadata": {},
   "outputs": [],
   "source": [
    "(a**2).sum()"
   ]
  },
  {
   "cell_type": "code",
   "execution_count": null,
   "metadata": {
    "collapsed": true
   },
   "outputs": [],
   "source": []
  }
 ],
 "metadata": {
  "kernelspec": {
   "display_name": "Python [conda env:python3]",
   "language": "python",
   "name": "conda-env-python3-py"
  },
  "language_info": {
   "codemirror_mode": {
    "name": "ipython",
    "version": 3
   },
   "file_extension": ".py",
   "mimetype": "text/x-python",
   "name": "python",
   "nbconvert_exporter": "python",
   "pygments_lexer": "ipython3",
   "version": "3.6.2"
  }
 },
 "nbformat": 4,
 "nbformat_minor": 2
}
